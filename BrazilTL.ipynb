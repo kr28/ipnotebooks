{
 "metadata": {
  "name": ""
 },
 "nbformat": 3,
 "nbformat_minor": 0,
 "worksheets": [
  {
   "cells": [
    {
     "cell_type": "markdown",
     "metadata": {
      "slideshow": {
       "slide_type": "slide"
      }
     },
     "source": [
      "#Trade liberalization and wage distribution in Brazil#\n",
      "\n",
      "Consider workers with characteristics $x$. Suppose for such workers \n",
      "\n",
      "- you could predict what the probability is that the worker is employed in sector $j$, say $p_j(x)$\n",
      "- you new the (distribution of the) wage such a worker would earn in sector $j$, say $w_j(x)$\n",
      "- then you could derive the wage distribution for workers with characteristics $x$\n",
      "\n",
      "If, in addition you knew the distribution of $x$ over workers\n",
      "\n",
      "- then you could deduce the overall wage distribution in an economy\n",
      "    \n",
      "A change in the wage distribution could then be explained from a combination of\n",
      "\n",
      "- a change in the distribution of $x$\n",
      "- a change in the employment probabilities $p_j(x)$\n",
      "- a change in the (conditional) sectoral wage distribution $w_j(x)$"
     ]
    },
    {
     "cell_type": "markdown",
     "metadata": {
      "slideshow": {
       "slide_type": "slide"
      }
     },
     "source": [
      "#No perfect labour market#\n",
      "\n",
      "In a perfect labour market wages would be the same, given worker characteristics $x$.\n",
      "\n",
      "Trade liberalization could have an impact on\n",
      "\n",
      "- conditional wage differences between sectors\n",
      "- resource allocation (i.e., changing employment patterns) across sectors\n",
      "\n",
      "In the Heckscher-Ohlin model a change in output prices would result in resource reallocation and a change in relative factor prices\n",
      "\n",
      "With imperfect labour markets one would expect changed output prices to result in resource allocation and\n",
      "\n",
      "- there could be economy wide changes in factor prices\n",
      "- there could be a change in relative sectoral wages\n",
      "- note that employment shifts between sectors would *automatically* have an impact on the aggregate wage distribution\n"
     ]
    }
   ],
   "metadata": {}
  }
 ]
}